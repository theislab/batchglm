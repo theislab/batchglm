{
 "cells": [
  {
   "cell_type": "markdown",
   "metadata": {
    "collapsed": true
   },
   "source": [
    "# Tests for Normaldistribution (glm_norm)"
   ]
  },
  {
   "cell_type": "code",
   "execution_count": 1,
   "metadata": {},
   "outputs": [],
   "source": [
    "import os\n",
    "import datetime\n",
    "import numpy as np\n",
    "import pprint\n",
    "\n",
    "import logging\n",
    "import warnings\n",
    "\n",
    "%load_ext autoreload\n",
    "%autoreload 2"
   ]
  },
  {
   "cell_type": "code",
   "execution_count": 2,
   "metadata": {},
   "outputs": [],
   "source": [
    "import batchglm.api as glm\n",
    "\n",
    "np.warnings.filterwarnings(\"ignore\")\n",
    "warnings.filterwarnings(\"ignore\", category=DeprecationWarning, module=\"tensorflow\")\n",
    "logging.getLogger(\"tensorflow\").setLevel(logging.INFO)\n",
    "logging.getLogger(\"batchglm\").setLevel(logging.INFO)\n",
    "logging.getLogger(\"diffxpy\").setLevel(logging.INFO)"
   ]
  },
  {
   "cell_type": "markdown",
   "metadata": {},
   "source": [
    "## Simulate some Data"
   ]
  },
  {
   "cell_type": "code",
   "execution_count": 3,
   "metadata": {},
   "outputs": [],
   "source": [
    "sim = glm.models.glm_norm.Simulator()"
   ]
  },
  {
   "cell_type": "code",
   "execution_count": 4,
   "metadata": {},
   "outputs": [],
   "source": [
    "sim.generate()"
   ]
  },
  {
   "cell_type": "code",
   "execution_count": 5,
   "metadata": {},
   "outputs": [
    {
     "data": {
      "text/plain": [
       "<xarray.DataArray 'X' (observations: 1000, features: 100)>\n",
       "array([[153530.668053, 184471.534877, 169294.048184, ..., 124758.218499,\n",
       "        163299.072128, 168342.198344],\n",
       "       [153727.148687, 184660.252114, 169413.785819, ..., 124985.662782,\n",
       "        163416.764229, 168525.694527],\n",
       "       [153524.265736, 184464.054546, 169294.235636, ..., 124763.473351,\n",
       "        163296.463545, 168330.185236],\n",
       "       ...,\n",
       "       [153823.158262, 185136.831761, 169525.750169, ..., 124938.104856,\n",
       "        163703.131904, 168728.535786],\n",
       "       [153620.064816, 184690.47005 , 169416.598402, ..., 124924.478733,\n",
       "        163443.696657, 168461.014046],\n",
       "       [153870.35622 , 184581.061892, 169478.678999, ..., 125108.260219,\n",
       "        163420.133359, 168725.511263]])\n",
       "Dimensions without coordinates: observations, features"
      ]
     },
     "execution_count": 5,
     "metadata": {},
     "output_type": "execute_result"
    }
   ],
   "source": [
    "sim.X"
   ]
  },
  {
   "cell_type": "code",
   "execution_count": 6,
   "metadata": {},
   "outputs": [
    {
     "data": {
      "text/plain": [
       "<xarray.DataArray (observations: 1000, features: 100)>\n",
       "array([[  3.75385 ,   8.645385,   7.135442, ...,   8.487027,   3.7549  ,\n",
       "          6.458461],\n",
       "       [ 10.768345,  33.85133 ,  36.596781, ...,  82.445376,  29.838425,\n",
       "          9.863909],\n",
       "       [  3.75385 ,   8.645385,   7.135442, ...,   8.487027,   3.7549  ,\n",
       "          6.458461],\n",
       "       ...,\n",
       "       [ 35.960157, 246.471101,  90.036937, ..., 130.847114, 155.863109,\n",
       "         59.458407],\n",
       "       [ 12.535728,  62.946941,  17.554913, ...,  13.469561,  19.613986,\n",
       "         38.930793],\n",
       "       [ 35.960157, 246.471101,  90.036937, ..., 130.847114, 155.863109,\n",
       "         59.458407]])\n",
       "Dimensions without coordinates: observations, features"
      ]
     },
     "execution_count": 6,
     "metadata": {},
     "output_type": "execute_result"
    }
   ],
   "source": [
    "sim.sd"
   ]
  },
  {
   "cell_type": "code",
   "execution_count": 7,
   "metadata": {},
   "outputs": [
    {
     "data": {
      "text/plain": [
       "<xarray.DataArray (design_loc_params: 5, features: 100)>\n",
       "array([[1.535276e+05, 1.844713e+05, 1.692924e+05, ..., 1.247599e+05,\n",
       "        1.632980e+05, 1.683406e+05],\n",
       "       [1.941580e+02, 1.618886e+02, 1.078499e+02, ..., 1.376593e+02,\n",
       "        1.037169e+02, 1.901242e+02],\n",
       "       [1.113831e+02, 1.690494e+02, 1.244814e+02, ..., 1.450850e+02,\n",
       "        1.374363e+02, 1.623521e+02],\n",
       "       [1.941130e+02, 1.235625e+02, 1.801599e+02, ..., 1.154509e+02,\n",
       "        1.729885e+02, 1.536259e+02],\n",
       "       [1.067593e+02, 1.453621e+02, 1.029423e+02, ..., 1.707639e+02,\n",
       "        1.541521e+02, 1.270179e+02]])\n",
       "Coordinates:\n",
       "  * design_loc_params  (design_loc_params) object 'Intercept' ... 'batch[T.3]'\n",
       "Dimensions without coordinates: features"
      ]
     },
     "execution_count": 7,
     "metadata": {},
     "output_type": "execute_result"
    }
   ],
   "source": [
    "sim.par_link_loc"
   ]
  },
  {
   "cell_type": "code",
   "execution_count": 8,
   "metadata": {},
   "outputs": [
    {
     "data": {
      "text/plain": [
       "<xarray.DataArray (design_scale_params: 5, features: 100)>\n",
       "array([[1.322782, 2.157026, 1.965074, ..., 2.138539, 1.323062, 1.865391],\n",
       "       [1.053829, 1.364953, 1.634886, ..., 2.273597, 2.072735, 0.423491],\n",
       "       [2.103463, 2.022464, 1.513653, ..., 0.87566 , 2.288657, 1.114935],\n",
       "       [2.225734, 0.831343, 2.051622, ..., 0.626995, 1.506541, 1.975494],\n",
       "       [1.205801, 1.985266, 0.90026 , ..., 0.461894, 1.653181, 1.796394]])\n",
       "Coordinates:\n",
       "  * design_scale_params  (design_scale_params) object 'Intercept' ... 'batch[T.3]'\n",
       "Dimensions without coordinates: features"
      ]
     },
     "execution_count": 8,
     "metadata": {},
     "output_type": "execute_result"
    }
   ],
   "source": [
    "sim.par_link_scale"
   ]
  },
  {
   "cell_type": "markdown",
   "metadata": {},
   "source": [
    "## Set up Estimator"
   ]
  },
  {
   "cell_type": "code",
   "execution_count": 9,
   "metadata": {},
   "outputs": [],
   "source": [
    "X = sim.X\n",
    "design_loc = sim.design_loc\n",
    "design_scale = sim.design_scale\n",
    "\n",
    "# input data\n",
    "input_data = glm.models.glm_norm.InputData.new(data=X, design_loc=design_loc, design_scale=design_scale)"
   ]
  },
  {
   "cell_type": "code",
   "execution_count": 13,
   "metadata": {},
   "outputs": [],
   "source": [
    "estimator = glm.models.glm_norm.Estimator(input_data, \n",
    "                init_a = \"standard\", init_b = \"standard\", \n",
    "                provide_optimizers = {\n",
    "                    \"gd\": True, \"adam\": True, \"adagrad\": True, \"rmsprop\": True,\n",
    "                    \"nr\": False, \"nr_tr\": False,\n",
    "                    \"irls\": False, \"irls_gd\": False, \"irls_tr\": False, \"irls_gd_tr\": False,\n",
    "            }, provide_hessian = False)"
   ]
  },
  {
   "cell_type": "code",
   "execution_count": 14,
   "metadata": {},
   "outputs": [
    {
     "name": "stdout",
     "output_type": "stream",
     "text": [
      "INFO:tensorflow:Graph was finalized.\n",
      "INFO:tensorflow:Running local_init_op.\n",
      "INFO:tensorflow:Done running local_init_op.\n"
     ]
    }
   ],
   "source": [
    "estimator.initialize()"
   ]
  },
  {
   "cell_type": "code",
   "execution_count": 17,
   "metadata": {},
   "outputs": [
    {
     "name": "stdout",
     "output_type": "stream",
     "text": [
      "INFO:tensorflow:Step: 0 loss: 615.682423 models converged 0\n",
      "INFO:tensorflow:Step: 1 loss: 615.682423, converged 100 in 0.227 sec., updated 100, {f: 100, g: 100, x: 100}\n"
     ]
    }
   ],
   "source": [
    "estimator.train_sequence(training_strategy=[\n",
    "            {\n",
    "                \"learning_rate\": 1,\n",
    "                \"convergence_criteria\": \"all_converged\",\n",
    "                \"stopping_criteria\": 1e-6,\n",
    "                \"use_batching\": False,\n",
    "                \"optim_algo\": \"gd\",\n",
    "            },\n",
    "        ])"
   ]
  },
  {
   "cell_type": "code",
   "execution_count": 18,
   "metadata": {},
   "outputs": [],
   "source": [
    "store = estimator.finalize()"
   ]
  },
  {
   "cell_type": "code",
   "execution_count": 20,
   "metadata": {},
   "outputs": [
    {
     "data": {
      "text/plain": [
       "<xarray.DataArray (design_loc_params: 5, features: 100)>\n",
       "array([[ 2.079207e-02,  5.072105e+00,  5.357422e+00, ...,  7.132302e+00,\n",
       "         3.804407e+00,  5.184096e-01],\n",
       "       [-3.651440e-01, -9.410049e+00, -1.232361e+01, ...,  3.187043e+00,\n",
       "        -8.003614e+00, -6.045565e-01],\n",
       "       [-1.111495e+01,  6.376660e+00,  4.579032e+00, ..., -6.709791e+00,\n",
       "        -8.973671e+00,  2.515338e+00],\n",
       "       [ 5.207923e+00, -3.547651e+00, -2.312268e+01, ..., -1.051617e+01,\n",
       "        -3.800159e+00,  1.252344e+00],\n",
       "       [ 4.002172e+00, -9.691013e+00, -8.613539e-01, ..., -1.567684e+01,\n",
       "         2.253166e-01, -5.545119e+00]])\n",
       "Coordinates:\n",
       "  * design_loc_params  (design_loc_params) object 'Intercept' ... 'batch[T.3]'\n",
       "Dimensions without coordinates: features"
      ]
     },
     "execution_count": 20,
     "metadata": {},
     "output_type": "execute_result"
    }
   ],
   "source": [
    "store.a - sim.a"
   ]
  },
  {
   "cell_type": "code",
   "execution_count": null,
   "metadata": {},
   "outputs": [],
   "source": [
    "np.mean(store.b - sim.b)"
   ]
  },
  {
   "cell_type": "code",
   "execution_count": null,
   "metadata": {},
   "outputs": [],
   "source": [
    "store.a"
   ]
  },
  {
   "cell_type": "code",
   "execution_count": null,
   "metadata": {},
   "outputs": [],
   "source": [
    "sim.a"
   ]
  },
  {
   "cell_type": "code",
   "execution_count": null,
   "metadata": {},
   "outputs": [],
   "source": [
    "store.b - sim.b"
   ]
  },
  {
   "cell_type": "code",
   "execution_count": null,
   "metadata": {},
   "outputs": [],
   "source": [
    "sim.b"
   ]
  },
  {
   "cell_type": "code",
   "execution_count": null,
   "metadata": {},
   "outputs": [],
   "source": []
  },
  {
   "cell_type": "code",
   "execution_count": null,
   "metadata": {},
   "outputs": [],
   "source": []
  }
 ],
 "metadata": {
  "kernelspec": {
   "display_name": "Python (batchglm)",
   "language": "python",
   "name": "batchglm"
  },
  "language_info": {
   "codemirror_mode": {
    "name": "ipython",
    "version": 3
   },
   "file_extension": ".py",
   "mimetype": "text/x-python",
   "name": "python",
   "nbconvert_exporter": "python",
   "pygments_lexer": "ipython3",
   "version": "3.6.8"
  }
 },
 "nbformat": 4,
 "nbformat_minor": 1
}
